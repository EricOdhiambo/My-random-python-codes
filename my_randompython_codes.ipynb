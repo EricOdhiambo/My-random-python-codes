{
  "nbformat": 4,
  "nbformat_minor": 0,
  "metadata": {
    "colab": {
      "provenance": [],
      "authorship_tag": "ABX9TyOEamveiXflTO6ycrVoOmji",
      "include_colab_link": true
    },
    "kernelspec": {
      "name": "python3",
      "display_name": "Python 3"
    },
    "language_info": {
      "name": "python"
    }
  },
  "cells": [
    {
      "cell_type": "markdown",
      "metadata": {
        "id": "view-in-github",
        "colab_type": "text"
      },
      "source": [
        "<a href=\"https://colab.research.google.com/github/EricOdhiambo/My-random-python-codes/blob/main/my_randompython_codes.ipynb\" target=\"_parent\"><img src=\"https://colab.research.google.com/assets/colab-badge.svg\" alt=\"Open In Colab\"/></a>"
      ]
    },
    {
      "cell_type": "markdown",
      "source": [
        "1. Creating a random dataframe"
      ],
      "metadata": {
        "id": "6SD97GzA2Ecc"
      }
    },
    {
      "cell_type": "code",
      "execution_count": 3,
      "metadata": {
        "colab": {
          "base_uri": "https://localhost:8080/"
        },
        "id": "U4ZkldCc1raw",
        "outputId": "d325909b-fb6d-47a9-bafa-ddf512b7da39"
      },
      "outputs": [
        {
          "output_type": "stream",
          "name": "stdout",
          "text": [
            "           names age     attributes\n",
            "0          Erick  27           doer\n",
            "1  Antony Edward  24       Athletic\n",
            "2         Lebron  40          beast\n",
            "3      Cristiano  39           Aura\n",
            "4       Mo Salah  33  Never give up\n"
          ]
        }
      ],
      "source": [
        "#install dependencies - pandas\n",
        "import pandas as pd\n",
        "\n",
        "#creating the df - with data to be represented in columns and and their entries\n",
        "the_data = {\n",
        "    'names':['Erick', 'Antony Edward', 'Lebron', 'Cristiano', 'Mo Salah'],\n",
        "    'age':['27', '24', '40', '39', '33'],\n",
        "    'attributes':['doer', 'Athletic', 'beast', 'Aura', 'Never give up']\n",
        "    }\n",
        "\n",
        "the_dataframe = pd.DataFrame(the_data)\n",
        "print(the_dataframe)\n",
        "\n",
        "##will create it further with a table with lines and cells"
      ]
    },
    {
      "cell_type": "code",
      "source": [],
      "metadata": {
        "id": "TcvbNPk44iEd"
      },
      "execution_count": null,
      "outputs": []
    }
  ]
}